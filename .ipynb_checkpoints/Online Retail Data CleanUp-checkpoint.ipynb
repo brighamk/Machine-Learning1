{
 "cells": [
  {
   "cell_type": "markdown",
   "id": "9456a057-de8b-4159-a859-a4321b2afd97",
   "metadata": {},
   "source": [
    "# Import Dependencies and Dataset"
   ]
  },
  {
   "cell_type": "code",
   "execution_count": 1,
   "id": "537308ed-026c-4401-9e38-9a57f1f669a8",
   "metadata": {},
   "outputs": [],
   "source": [
    "#import dependencies\n",
    "from ucimlrepo import fetch_ucirepo\n",
    "import pandas as pd\n",
    "import numpy as np"
   ]
  },
  {
   "cell_type": "code",
   "execution_count": null,
   "id": "42e45c92-e139-4134-8d8c-9144f2b92379",
   "metadata": {},
   "outputs": [],
   "source": [
    "# fetch dataset \n",
    "online_retail = fetch_ucirepo(id=352) \n",
    "  \n",
    "# data (as pandas dataframes) \n",
    "X = online_retail.data.features\n",
    "y=online_retail.data.ids"
   ]
  },
  {
   "cell_type": "markdown",
   "id": "ccab42e9-951b-4337-8358-ebae4dd42e59",
   "metadata": {},
   "source": [
    "# Initial Analysis"
   ]
  },
  {
   "cell_type": "code",
   "execution_count": null,
   "id": "00224e79-2fc9-43e8-b00f-218e710a87c6",
   "metadata": {
    "scrolled": true
   },
   "outputs": [],
   "source": [
    "# metadata \n",
    "#online_retail.metadata"
   ]
  },
  {
   "cell_type": "code",
   "execution_count": null,
   "id": "8e19c4ba-156b-4899-bbab-2afe6482ce48",
   "metadata": {},
   "outputs": [],
   "source": [
    "#Variable information\n",
    "pd.set_option('display.max_colwidth', None)\n",
    "online_retail.variables"
   ]
  },
  {
   "cell_type": "code",
   "execution_count": null,
   "id": "74dd5935-b973-4c12-8f33-e8ad93c618ce",
   "metadata": {},
   "outputs": [],
   "source": [
    "#Combine IDs and Features\n",
    "online_retail_trans = pd.concat([X, y], axis=1)"
   ]
  },
  {
   "cell_type": "code",
   "execution_count": null,
   "id": "feb38e0c-c699-472a-88e2-f750a755ae8a",
   "metadata": {},
   "outputs": [],
   "source": [
    "#Look at first five rows \n",
    "online_retail_trans.head()"
   ]
  },
  {
   "cell_type": "code",
   "execution_count": null,
   "id": "e2f01bc1-128e-4dc2-a602-489c2e915f5c",
   "metadata": {},
   "outputs": [],
   "source": [
    "#Rows and column count in dataset\n",
    "num_rows, num_columns = online_retail_trans.shape\n",
    "print(f\"The number of rows in the dataset is {num_rows} and the number of columns is {num_columns}\")\n"
   ]
  },
  {
   "cell_type": "markdown",
   "id": "19cc9b69-b7b2-42cc-913c-7f10b57053e5",
   "metadata": {},
   "source": [
    "# Data Analysis and Cleanup\n"
   ]
  },
  {
   "cell_type": "code",
   "execution_count": null,
   "id": "d4d37486-c373-498c-826b-edad90d48070",
   "metadata": {},
   "outputs": [],
   "source": [
    "#Metadata says that rows where InvoiceNo starts with C are cancelled orders. Create two datasets, one with orders and one with cancelled orders\n",
    "\n",
    "# Orders Dataset\n",
    "orders_df = online_retail_trans[~online_retail_trans['InvoiceNo'].str.startswith('C')].copy()\n",
    "#Cancelled Orders Dataset\n",
    "cancelled_orders_df = online_retail_trans[online_retail_trans['InvoiceNo'].str.startswith('C')].copy()\n",
    "\n",
    "# Display the filtered DataFrame\n",
    "print(orders_df.shape)\n",
    "print(cancelled_orders_df.shape)"
   ]
  },
  {
   "cell_type": "code",
   "execution_count": null,
   "id": "ef814ed3-3ef7-4adb-9461-8611123cc4da",
   "metadata": {},
   "outputs": [],
   "source": [
    "orders_df.head()"
   ]
  },
  {
   "cell_type": "code",
   "execution_count": null,
   "id": "f57b5fbf-8eda-46d9-bd98-022b19109089",
   "metadata": {},
   "outputs": [],
   "source": [
    "#Descriptive statistics\n",
    "orders_df.describe(include='all')\n"
   ]
  },
  {
   "cell_type": "markdown",
   "id": "5f40cdf7-9092-48c8-b2cc-8b8a3ae32e6e",
   "metadata": {},
   "source": [
    "# Assessing Null Values / Errors"
   ]
  },
  {
   "cell_type": "code",
   "execution_count": null,
   "id": "5d5ef649-bb75-46f8-ab6f-ddd8c6e18eca",
   "metadata": {},
   "outputs": [],
   "source": [
    "#From the descriptive stats, some of the quantity and unit price amounts are less than 0\n",
    "#Remove rows with that have quantity and unit price that is 0 or less\n",
    "filtered_df = orders_df[(orders_df['Quantity'] >= 0) | (orders_df['UnitPrice'] >= 0)]\n",
    "\n",
    "#filtered_df now contains only rows where both Quantity and UnitPrice are 0 or more"
   ]
  },
  {
   "cell_type": "code",
   "execution_count": null,
   "id": "b5ceb020-7df3-4f4a-bd77-80b2777ca299",
   "metadata": {},
   "outputs": [],
   "source": [
    "#Find null values\n",
    "orders_df.isnull().sum()"
   ]
  },
  {
   "cell_type": "code",
   "execution_count": null,
   "id": "7aec6d57-d149-44e8-b3ea-34d5188fc79d",
   "metadata": {},
   "outputs": [],
   "source": [
    "#After some analysis, noticed that some of the StockIds have upper and lowercase values. Counting the unique stockIDs before fixing the issue\n",
    "unique_stock_ids_count = orders_df['StockCode'].nunique()\n",
    "print(f'Number of unique Stock IDs: {unique_stock_ids_count}')"
   ]
  },
  {
   "cell_type": "code",
   "execution_count": null,
   "id": "9cf14268-785a-4fe4-8733-c10a779039dc",
   "metadata": {},
   "outputs": [],
   "source": [
    "# Convert all letters in StockCode to uppercase\n",
    "orders_df['StockCode'] = orders_df['StockCode'].str.upper()\n"
   ]
  },
  {
   "cell_type": "code",
   "execution_count": null,
   "id": "4cbec7cf-dc19-42a4-990b-3db0908335a1",
   "metadata": {},
   "outputs": [],
   "source": [
    "#Unique StockIDs\n",
    "count_ids2 = orders_df['StockCode'].nunique()\n",
    "print(f'Number of unique Stock IDs: {count_ids2}')\n"
   ]
  },
  {
   "cell_type": "code",
   "execution_count": null,
   "id": "53d3241e-0c66-4a45-9026-241132adf5b3",
   "metadata": {},
   "outputs": [],
   "source": []
  },
  {
   "cell_type": "code",
   "execution_count": null,
   "id": "bed227ed-e509-4491-b17a-d2b841e2331a",
   "metadata": {},
   "outputs": [],
   "source": []
  },
  {
   "cell_type": "code",
   "execution_count": null,
   "id": "834b1e3b-4adc-463b-8b9a-df648ecd011d",
   "metadata": {},
   "outputs": [],
   "source": []
  },
  {
   "cell_type": "code",
   "execution_count": null,
   "id": "24d4c2cc-cf5a-42f1-ade5-5f5526a4fd10",
   "metadata": {},
   "outputs": [],
   "source": [
    "#Replace typos and null values in description column with most popular description by StockCode\n",
    "\n",
    "# Find the most popular description for each StockCode\n",
    "most_popular_descriptions = orders_df.groupby('StockCode')['Description'].agg(lambda x: x.mode().iat[0] if not x.mode().empty else \"No Description\")\n",
    "\n",
    "# Create a dictionary to map StockCode to the most popular description\n",
    "description_mapping = most_popular_descriptions.to_dict()\n",
    "\n",
    "# Fill in descriptions based on the most popular description for their StockCode\n",
    "orders_df['Description'] = orders_df.apply(lambda x: description_mapping[x['StockCode']] if pd.isnull(x['Description']) or x['Description'] not in description_mapping.values() else x['Description'], axis=1)\n"
   ]
  },
  {
   "cell_type": "code",
   "execution_count": null,
   "id": "e8c481ba-a7b3-43ff-981b-822f4a4deb54",
   "metadata": {},
   "outputs": [],
   "source": [
    "#Validate one description per stock ID\n",
    "unique_stock_ids_count = orders_df['StockCode'].nunique()\n",
    "print(f'Number of unique Stock IDs: {unique_stock_ids_count}')\n",
    "\n",
    "unique_descriptions_count = orders_df['Description'].nunique()\n",
    "print(f'Number of unique descriptions: {unique_descriptions_count}')"
   ]
  },
  {
   "cell_type": "code",
   "execution_count": null,
   "id": "4da85ab7-f61c-4a8b-b2a0-c96593f62fd6",
   "metadata": {},
   "outputs": [],
   "source": [
    "# Group by Description and aggregate StockCodes into lists\n",
    "grouped = orders_df.groupby('Description')['StockCode'].unique()\n",
    "\n",
    "# Filter groups where the list of StockCodes has more than one element\n",
    "duplicates = grouped[grouped.apply(len) > 1]\n",
    "\n",
    "# duplicates now contains the descriptions along with the StockCodes that share those descriptions\n"
   ]
  },
  {
   "cell_type": "code",
   "execution_count": null,
   "id": "31b3e4fa-0d21-4309-ba56-805193d8cb31",
   "metadata": {},
   "outputs": [],
   "source": []
  },
  {
   "cell_type": "code",
   "execution_count": null,
   "id": "37d9f420-75c1-4851-9337-9597ba3d1289",
   "metadata": {},
   "outputs": [],
   "source": [
    "negative_price_df = orders_df[orders_df['Quantity'] < 0]"
   ]
  },
  {
   "cell_type": "code",
   "execution_count": null,
   "id": "1c883354-3541-49f7-a0df-8b33f412b301",
   "metadata": {},
   "outputs": [],
   "source": [
    "negative_price_df"
   ]
  },
  {
   "cell_type": "code",
   "execution_count": null,
   "id": "d0015706-df32-4b68-b084-b7336b2e6494",
   "metadata": {},
   "outputs": [],
   "source": [
    "#######All orders with a blank customer ID have them blank for the entire invoice. Instead will remove rows where customerId is null\n",
    "orders_df_cleaned= orders_df.dropna()"
   ]
  },
  {
   "cell_type": "code",
   "execution_count": null,
   "id": "dbbca569-9d2f-47b3-85bf-0e41e900a723",
   "metadata": {},
   "outputs": [],
   "source": [
    "orders_df_cleaned.shape"
   ]
  },
  {
   "cell_type": "markdown",
   "id": "85be10c2-ef1e-4abf-b5df-ef19944df990",
   "metadata": {},
   "source": [
    "## Assessing Descriptions for typos"
   ]
  },
  {
   "cell_type": "code",
   "execution_count": null,
   "id": "91743839-c69d-402f-aa11-510c945b6313",
   "metadata": {},
   "outputs": [],
   "source": [
    "#Checking to see if there are still any null values\n",
    "orders_df_cleaned.isnull().sum()"
   ]
  },
  {
   "cell_type": "code",
   "execution_count": null,
   "id": "8a307aa8-df12-4494-a9f4-13437c7ffddc",
   "metadata": {},
   "outputs": [],
   "source": [
    "# Identify the most popular Description for each StockCode\n",
    "# This involves grouping by StockCode and finding the mode (most frequent) Description\n",
    "popular_descriptions = orders_df_cleaned.groupby('StockCode')['Description'].agg(lambda x: pd.Series.mode(x)[0]).reset_index()\n",
    "\n",
    "# Step 2: Merge this information back with the original DataFrame\n",
    "# This will allow us to fill in all descriptions with the most popular description per StockCode\n",
    "orders_df_filled = orders_df_cleaned.merge(popular_descriptions, on='StockCode', suffixes=('', '_most_popular'))\n",
    "\n",
    "# Replace the Description with the most popular description\n",
    "orders_df_filled['Description'] = orders_df_filled['Description_most_popular']\n",
    "orders_df_filled.drop('Description_most_popular', axis=1, inplace=True)\n",
    "\n",
    "# Display the DataFrame after filling in descriptions\n",
    "print(\"\\nDataFrame after filling in descriptions with the most popular ones:\")\n",
    "print(orders_df_filled)\n"
   ]
  },
  {
   "cell_type": "code",
   "execution_count": null,
   "id": "5c5dfc59-22c7-4022-8fd1-3dd6d7da1e20",
   "metadata": {},
   "outputs": [],
   "source": [
    "unique_stock_ids_count = orders_df_filled['StockCode'].nunique()\n",
    "print(f'Number of unique Stock IDs: {unique_stock_ids_count}')\n",
    "\n",
    "unique_descriptions_count = orders_df_filled['Description'].nunique()\n",
    "print(f'Number of unique descriptions: {unique_descriptions_count}')"
   ]
  },
  {
   "cell_type": "code",
   "execution_count": null,
   "id": "5ef877f2-3442-4cbc-9160-7a92a3e31224",
   "metadata": {},
   "outputs": [],
   "source": [
    "unique_stock_ids_count = orders_df_filled['StockCode'].nunique()\n",
    "print(f'Number of unique Stock IDs: {unique_stock_ids_count}')\n",
    "\n",
    "unique_descriptions_count = orders_df_filled['Description'].nunique()\n",
    "print(f'Number of unique descriptions: {unique_descriptions_count}')"
   ]
  },
  {
   "cell_type": "code",
   "execution_count": null,
   "id": "9fe04d9a-57ef-419b-a66c-f8283e49c14e",
   "metadata": {},
   "outputs": [],
   "source": [
    "orders_df_filled"
   ]
  },
  {
   "cell_type": "code",
   "execution_count": null,
   "id": "11c7dec8-ace7-4047-a644-502a16d48ff4",
   "metadata": {},
   "outputs": [],
   "source": [
    "# Step 1: Group by 'StockCode' and filter those groups which have more than one unique 'Description'\n",
    "groups_with_varied_descriptions = orders_df.groupby('StockCode').filter(lambda x: x['Description'].nunique() > 1)\n",
    "\n",
    "# Step 2: Sort the result by 'StockCode' to easily visualize the discrepancies\n",
    "sorted_varied_descriptions = groups_with_varied_descriptions.sort_values(by=['StockCode', 'Description'])\n",
    "\n",
    "# Display the rows with the same 'StockCode' but different 'Descriptions'\n",
    "print(\"\\nRows with the same 'StockCode' but different 'Descriptions':\")\n",
    "print(sorted_varied_descriptions)"
   ]
  },
  {
   "cell_type": "code",
   "execution_count": null,
   "id": "a3178c48-c978-4a53-b78d-e7ae84e46a8b",
   "metadata": {},
   "outputs": [],
   "source": [
    "unique_descriptions_count = df_cleaned['Description'].nunique()\n",
    "print(f'Number of unique descriptions: {unique_descriptions_count}')\n"
   ]
  },
  {
   "cell_type": "code",
   "execution_count": null,
   "id": "c12a5dd6-98f3-43b1-9c54-1ef26a50f1e6",
   "metadata": {},
   "outputs": [],
   "source": [
    "#Drop rows with NA\n",
    "df_cleaned = orders_df.dropna(subset=['CustomerID'].isnull())"
   ]
  },
  {
   "cell_type": "code",
   "execution_count": null,
   "id": "26cecceb-1be1-4f54-a2f0-6f602f9a9015",
   "metadata": {},
   "outputs": [],
   "source": [
    "print(filtered_df.shape)\n",
    "print(df_cleaned.shape)"
   ]
  },
  {
   "cell_type": "code",
   "execution_count": null,
   "id": "62624f23-bcb9-458d-bba0-3c7e057e0b58",
   "metadata": {},
   "outputs": [],
   "source": [
    "# Ensure 'InvoiceDate' is in datetime format\n",
    "df_cleaned['InvoiceDate'] = pd.to_datetime(df_cleaned['InvoiceDate'])"
   ]
  },
  {
   "cell_type": "code",
   "execution_count": null,
   "id": "52a0ed49-88c4-49d6-8626-9b15226686a9",
   "metadata": {},
   "outputs": [],
   "source": [
    "print(df_cleaned['InvoiceDate'].dtype)"
   ]
  },
  {
   "cell_type": "code",
   "execution_count": null,
   "id": "33f4d76a-6eb1-4dda-99d1-0149d37bf0a2",
   "metadata": {},
   "outputs": [],
   "source": [
    "# Create separate date and time columns\n",
    "df_cleaned['InvoiceDate_only'] = df_cleaned['InvoiceDate'].dt.date\n",
    "df_cleaned['InvoiceTime_only'] = df_cleaned['InvoiceDate'].dt.time"
   ]
  },
  {
   "cell_type": "code",
   "execution_count": null,
   "id": "e57906af-7dee-426a-951a-996b28f56ee1",
   "metadata": {},
   "outputs": [],
   "source": [
    "#Change invoicedate_only to datetime\n",
    "df_cleaned['InvoiceDate_only'] = pd.to_datetime(df_cleaned['InvoiceDate_only'])\n",
    "\n",
    "# Create 'Year' and 'Month' columns \n",
    "df_cleaned['Year'] = df_cleaned['InvoiceDate_only'].dt.year\n",
    "df_cleaned['Month'] = df_cleaned['InvoiceDate_only'].dt.month\n"
   ]
  },
  {
   "cell_type": "code",
   "execution_count": null,
   "id": "37f8fc10-ca6e-4da8-b3e0-abac37fe9dbf",
   "metadata": {},
   "outputs": [],
   "source": [
    "# Adding in TotalPrice Column using .loc for explicit indexing\n",
    "df_cleaned['TotalPrice'] = df_cleaned['UnitPrice'] * df_cleaned['Quantity']\n"
   ]
  },
  {
   "cell_type": "code",
   "execution_count": null,
   "id": "d0bbafa7-aa48-46d6-af54-b05b0c9f3ab8",
   "metadata": {},
   "outputs": [],
   "source": [
    "df_cleaned.shape\n"
   ]
  },
  {
   "cell_type": "code",
   "execution_count": null,
   "id": "de29efa4-3f98-4f30-aa54-d22f4e529d5f",
   "metadata": {},
   "outputs": [],
   "source": [
    "df_cleaned.head()"
   ]
  },
  {
   "cell_type": "code",
   "execution_count": null,
   "id": "07726715-3abd-4f4f-8d4c-dd3d8cb32aea",
   "metadata": {},
   "outputs": [],
   "source": [
    "# Identify categorical columns\n",
    "categorical_columns = df_cleaned.select_dtypes(include=['object', 'category']).columns\n",
    "\n",
    "# Get frequency counts for each categorical column\n",
    "frequencies = {}\n",
    "for column in categorical_columns:\n",
    "    frequencies[column] = df_cleaned[column].value_counts()\n",
    "\n",
    "# Display the frequency counts\n",
    "for column, freq in frequencies.items():\n",
    "    print(f\"Frequency for {column}:\\n{freq}\\n\")"
   ]
  },
  {
   "cell_type": "markdown",
   "id": "de7dc5c7-ba05-4f80-91d9-6e3154e0b17b",
   "metadata": {},
   "source": [
    "# Show Sales by Top 5 Customers"
   ]
  },
  {
   "cell_type": "code",
   "execution_count": null,
   "id": "54c15ffc-7ddb-480b-b3f7-cc8c54d4f3c6",
   "metadata": {},
   "outputs": [],
   "source": [
    "# Sum sales by customer\n",
    "sales_by_customer = df_cleaned.groupby('CustomerID')['TotalPrice'].sum().sort_values(ascending=False)\n"
   ]
  },
  {
   "cell_type": "code",
   "execution_count": null,
   "id": "53d00330-3ce1-4963-acd5-cda60009bf5d",
   "metadata": {},
   "outputs": [],
   "source": [
    "# Get the top 5 customers\n",
    "top_5_customers = sales_by_customer.head(5).index.tolist()\n"
   ]
  },
  {
   "cell_type": "code",
   "execution_count": null,
   "id": "af533239-78d4-4ba8-b5ad-e6367d7fc148",
   "metadata": {},
   "outputs": [],
   "source": [
    "# Filter the dataset for top 5 customers\n",
    "top_5_customers_data = df_cleaned[df_cleaned['CustomerID'].isin(top_5_customers)]\n"
   ]
  },
  {
   "cell_type": "code",
   "execution_count": null,
   "id": "d13141cc-4ec7-4e60-a7e5-bc0d193b9efc",
   "metadata": {},
   "outputs": [],
   "source": [
    "#Convert InvoiceDate to datetime\n",
    "top_5_customers_data.loc[:, 'InvoiceDate_only'] = pd.to_datetime(top_5_customers_data['InvoiceDate_only'])\n",
    "#Grouping and summation\n",
    "monthly_sales_top_5 = top_5_customers_data.groupby(['CustomerID', pd.Grouper(key='InvoiceDate_only', freq='ME')])['TotalPrice'].sum().reset_index()\n",
    "\n"
   ]
  },
  {
   "cell_type": "code",
   "execution_count": null,
   "id": "c4e31d7b-dfed-4ed6-8105-ac05481f1624",
   "metadata": {},
   "outputs": [],
   "source": [
    "#Plot Trend lines\n",
    "import matplotlib.pyplot as plt\n",
    "import seaborn as sns\n",
    "\n",
    "plt.figure(figsize=(10, 6))\n",
    "\n",
    "# Plotting sales trends for the top 5 customers\n",
    "for customer in top_5_customers:\n",
    "    customer_data = monthly_sales_top_5[monthly_sales_top_5['CustomerID'] == customer]\n",
    "    plt.plot(customer_data['InvoiceDate_only'], customer_data['TotalPrice'], label=customer)\n",
    "\n",
    "plt.title('Sales Trends for Top 5 Customers')\n",
    "plt.xlabel('Date')\n",
    "plt.ylabel('Sales')\n",
    "plt.legend(title='CustomerID')\n",
    "plt.xticks(rotation=45)  # Rotate date labels for better readability\n",
    "plt.show()\n"
   ]
  },
  {
   "cell_type": "markdown",
   "id": "c7995a40-3936-4fe1-bbe9-0393a3d501ac",
   "metadata": {},
   "source": [
    "# Clean the Description Field"
   ]
  },
  {
   "cell_type": "code",
   "execution_count": null,
   "id": "bacd004d-138b-4b35-bfea-4261588b6764",
   "metadata": {},
   "outputs": [],
   "source": [
    "unique_descriptions_count = df_cleaned['Description'].nunique()\n",
    "print(f'Number of unique descriptions: {unique_descriptions_count}')\n"
   ]
  },
  {
   "cell_type": "code",
   "execution_count": null,
   "id": "bb00acf7-0435-4c0f-97aa-94022f587cb9",
   "metadata": {},
   "outputs": [],
   "source": [
    "unique_stock_ids_count = df_cleaned['StockCode'].nunique()\n",
    "print(f'Number of unique Stock IDs: {unique_stock_ids_count}')\n"
   ]
  },
  {
   "cell_type": "code",
   "execution_count": null,
   "id": "7e14b97e-fdcd-48a0-8ae4-ad044a462edb",
   "metadata": {},
   "outputs": [],
   "source": [
    "#Number of unique descriptions and unique stock ID's do not match!!!\n",
    "\n"
   ]
  },
  {
   "cell_type": "code",
   "execution_count": null,
   "id": "cb8ef6de-2f2b-4005-aa19-809b04249905",
   "metadata": {},
   "outputs": [],
   "source": [
    "# Step 1 & 2: Group by 'StockCode' and filter\n",
    "# This creates a DataFrame of groups with more than one unique 'Description'\n",
    "df_filtered = df_cleaned.groupby('StockCode').filter(lambda x: x['Description'].nunique() > 1)\n",
    "\n",
    "# Step 3: Sort the resulting DataFrame by 'StockCode' (and 'Description' if you want)\n",
    "df_sorted = df_filtered.sort_values(by=['StockCode', 'Description'])\n",
    "\n",
    "print(df_sorted[['StockCode', 'Description']])\n"
   ]
  },
  {
   "cell_type": "code",
   "execution_count": null,
   "id": "a4bfc576-e68b-4dca-a34f-0efa1d9cee6a",
   "metadata": {},
   "outputs": [],
   "source": []
  }
 ],
 "metadata": {
  "kernelspec": {
   "display_name": "Python 3 (ipykernel)",
   "language": "python",
   "name": "python3"
  },
  "language_info": {
   "codemirror_mode": {
    "name": "ipython",
    "version": 3
   },
   "file_extension": ".py",
   "mimetype": "text/x-python",
   "name": "python",
   "nbconvert_exporter": "python",
   "pygments_lexer": "ipython3",
   "version": "3.11.8"
  }
 },
 "nbformat": 4,
 "nbformat_minor": 5
}

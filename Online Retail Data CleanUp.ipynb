{
 "cells": [
  {
   "cell_type": "markdown",
   "id": "9456a057-de8b-4159-a859-a4321b2afd97",
   "metadata": {},
   "source": [
    "# Import Dependencies and Dataset"
   ]
  },
  {
   "cell_type": "code",
   "execution_count": 1,
   "id": "537308ed-026c-4401-9e38-9a57f1f669a8",
   "metadata": {},
   "outputs": [],
   "source": [
    "#import dependencies\n",
    "from ucimlrepo import fetch_ucirepo\n",
    "import pandas as pd\n",
    "import numpy as np"
   ]
  },
  {
   "cell_type": "code",
   "execution_count": 2,
   "id": "42e45c92-e139-4134-8d8c-9144f2b92379",
   "metadata": {},
   "outputs": [],
   "source": [
    "# fetch dataset \n",
    "online_retail = fetch_ucirepo(id=352) \n",
    "  \n",
    "# data (as pandas dataframes) \n",
    "X = online_retail.data.features\n",
    "y=online_retail.data.ids"
   ]
  },
  {
   "cell_type": "markdown",
   "id": "ccab42e9-951b-4337-8358-ebae4dd42e59",
   "metadata": {},
   "source": [
    "# Initial Analysis"
   ]
  },
  {
   "cell_type": "code",
   "execution_count": null,
   "id": "00224e79-2fc9-43e8-b00f-218e710a87c6",
   "metadata": {
    "scrolled": true
   },
   "outputs": [],
   "source": [
    "# metadata \n",
    "#online_retail.metadata"
   ]
  },
  {
   "cell_type": "code",
   "execution_count": 3,
   "id": "8e19c4ba-156b-4899-bbab-2afe6482ce48",
   "metadata": {},
   "outputs": [
    {
     "data": {
      "text/html": [
       "<div>\n",
       "<style scoped>\n",
       "    .dataframe tbody tr th:only-of-type {\n",
       "        vertical-align: middle;\n",
       "    }\n",
       "\n",
       "    .dataframe tbody tr th {\n",
       "        vertical-align: top;\n",
       "    }\n",
       "\n",
       "    .dataframe thead th {\n",
       "        text-align: right;\n",
       "    }\n",
       "</style>\n",
       "<table border=\"1\" class=\"dataframe\">\n",
       "  <thead>\n",
       "    <tr style=\"text-align: right;\">\n",
       "      <th></th>\n",
       "      <th>name</th>\n",
       "      <th>role</th>\n",
       "      <th>type</th>\n",
       "      <th>demographic</th>\n",
       "      <th>description</th>\n",
       "      <th>units</th>\n",
       "      <th>missing_values</th>\n",
       "    </tr>\n",
       "  </thead>\n",
       "  <tbody>\n",
       "    <tr>\n",
       "      <th>0</th>\n",
       "      <td>InvoiceNo</td>\n",
       "      <td>ID</td>\n",
       "      <td>Categorical</td>\n",
       "      <td>None</td>\n",
       "      <td>a 6-digit integral number uniquely assigned to each transaction. If this code starts with letter 'c', it indicates a cancellation</td>\n",
       "      <td>None</td>\n",
       "      <td>no</td>\n",
       "    </tr>\n",
       "    <tr>\n",
       "      <th>1</th>\n",
       "      <td>StockCode</td>\n",
       "      <td>ID</td>\n",
       "      <td>Categorical</td>\n",
       "      <td>None</td>\n",
       "      <td>a 5-digit integral number uniquely assigned to each distinct product</td>\n",
       "      <td>None</td>\n",
       "      <td>no</td>\n",
       "    </tr>\n",
       "    <tr>\n",
       "      <th>2</th>\n",
       "      <td>Description</td>\n",
       "      <td>Feature</td>\n",
       "      <td>Categorical</td>\n",
       "      <td>None</td>\n",
       "      <td>product name</td>\n",
       "      <td>None</td>\n",
       "      <td>no</td>\n",
       "    </tr>\n",
       "    <tr>\n",
       "      <th>3</th>\n",
       "      <td>Quantity</td>\n",
       "      <td>Feature</td>\n",
       "      <td>Integer</td>\n",
       "      <td>None</td>\n",
       "      <td>the quantities of each product (item) per transaction</td>\n",
       "      <td>None</td>\n",
       "      <td>no</td>\n",
       "    </tr>\n",
       "    <tr>\n",
       "      <th>4</th>\n",
       "      <td>InvoiceDate</td>\n",
       "      <td>Feature</td>\n",
       "      <td>Date</td>\n",
       "      <td>None</td>\n",
       "      <td>the day and time when each transaction was generated</td>\n",
       "      <td>None</td>\n",
       "      <td>no</td>\n",
       "    </tr>\n",
       "    <tr>\n",
       "      <th>5</th>\n",
       "      <td>UnitPrice</td>\n",
       "      <td>Feature</td>\n",
       "      <td>Continuous</td>\n",
       "      <td>None</td>\n",
       "      <td>product price per unit</td>\n",
       "      <td>sterling</td>\n",
       "      <td>no</td>\n",
       "    </tr>\n",
       "    <tr>\n",
       "      <th>6</th>\n",
       "      <td>CustomerID</td>\n",
       "      <td>Feature</td>\n",
       "      <td>Categorical</td>\n",
       "      <td>None</td>\n",
       "      <td>a 5-digit integral number uniquely assigned to each customer</td>\n",
       "      <td>None</td>\n",
       "      <td>no</td>\n",
       "    </tr>\n",
       "    <tr>\n",
       "      <th>7</th>\n",
       "      <td>Country</td>\n",
       "      <td>Feature</td>\n",
       "      <td>Categorical</td>\n",
       "      <td>None</td>\n",
       "      <td>the name of the country where each customer resides</td>\n",
       "      <td>None</td>\n",
       "      <td>no</td>\n",
       "    </tr>\n",
       "  </tbody>\n",
       "</table>\n",
       "</div>"
      ],
      "text/plain": [
       "          name     role         type demographic  \\\n",
       "0    InvoiceNo       ID  Categorical        None   \n",
       "1    StockCode       ID  Categorical        None   \n",
       "2  Description  Feature  Categorical        None   \n",
       "3     Quantity  Feature      Integer        None   \n",
       "4  InvoiceDate  Feature         Date        None   \n",
       "5    UnitPrice  Feature   Continuous        None   \n",
       "6   CustomerID  Feature  Categorical        None   \n",
       "7      Country  Feature  Categorical        None   \n",
       "\n",
       "                                                                                                                         description  \\\n",
       "0  a 6-digit integral number uniquely assigned to each transaction. If this code starts with letter 'c', it indicates a cancellation   \n",
       "1                                                               a 5-digit integral number uniquely assigned to each distinct product   \n",
       "2                                                                                                                       product name   \n",
       "3                                                                              the quantities of each product (item) per transaction   \n",
       "4                                                                               the day and time when each transaction was generated   \n",
       "5                                                                                                             product price per unit   \n",
       "6                                                                       a 5-digit integral number uniquely assigned to each customer   \n",
       "7                                                                                the name of the country where each customer resides   \n",
       "\n",
       "      units missing_values  \n",
       "0      None             no  \n",
       "1      None             no  \n",
       "2      None             no  \n",
       "3      None             no  \n",
       "4      None             no  \n",
       "5  sterling             no  \n",
       "6      None             no  \n",
       "7      None             no  "
      ]
     },
     "execution_count": 3,
     "metadata": {},
     "output_type": "execute_result"
    }
   ],
   "source": [
    "#Variable information\n",
    "pd.set_option('display.max_colwidth', None)\n",
    "online_retail.variables"
   ]
  },
  {
   "cell_type": "code",
   "execution_count": 4,
   "id": "74dd5935-b973-4c12-8f33-e8ad93c618ce",
   "metadata": {},
   "outputs": [],
   "source": [
    "#Combine IDs and Features\n",
    "online_retail_trans = pd.concat([X, y], axis=1)"
   ]
  },
  {
   "cell_type": "code",
   "execution_count": 5,
   "id": "feb38e0c-c699-472a-88e2-f750a755ae8a",
   "metadata": {},
   "outputs": [
    {
     "data": {
      "text/html": [
       "<div>\n",
       "<style scoped>\n",
       "    .dataframe tbody tr th:only-of-type {\n",
       "        vertical-align: middle;\n",
       "    }\n",
       "\n",
       "    .dataframe tbody tr th {\n",
       "        vertical-align: top;\n",
       "    }\n",
       "\n",
       "    .dataframe thead th {\n",
       "        text-align: right;\n",
       "    }\n",
       "</style>\n",
       "<table border=\"1\" class=\"dataframe\">\n",
       "  <thead>\n",
       "    <tr style=\"text-align: right;\">\n",
       "      <th></th>\n",
       "      <th>Description</th>\n",
       "      <th>Quantity</th>\n",
       "      <th>InvoiceDate</th>\n",
       "      <th>UnitPrice</th>\n",
       "      <th>CustomerID</th>\n",
       "      <th>Country</th>\n",
       "      <th>InvoiceNo</th>\n",
       "      <th>StockCode</th>\n",
       "    </tr>\n",
       "  </thead>\n",
       "  <tbody>\n",
       "    <tr>\n",
       "      <th>0</th>\n",
       "      <td>WHITE HANGING HEART T-LIGHT HOLDER</td>\n",
       "      <td>6</td>\n",
       "      <td>12/1/2010 8:26</td>\n",
       "      <td>2.55</td>\n",
       "      <td>17850.0</td>\n",
       "      <td>United Kingdom</td>\n",
       "      <td>536365</td>\n",
       "      <td>85123A</td>\n",
       "    </tr>\n",
       "    <tr>\n",
       "      <th>1</th>\n",
       "      <td>WHITE METAL LANTERN</td>\n",
       "      <td>6</td>\n",
       "      <td>12/1/2010 8:26</td>\n",
       "      <td>3.39</td>\n",
       "      <td>17850.0</td>\n",
       "      <td>United Kingdom</td>\n",
       "      <td>536365</td>\n",
       "      <td>71053</td>\n",
       "    </tr>\n",
       "    <tr>\n",
       "      <th>2</th>\n",
       "      <td>CREAM CUPID HEARTS COAT HANGER</td>\n",
       "      <td>8</td>\n",
       "      <td>12/1/2010 8:26</td>\n",
       "      <td>2.75</td>\n",
       "      <td>17850.0</td>\n",
       "      <td>United Kingdom</td>\n",
       "      <td>536365</td>\n",
       "      <td>84406B</td>\n",
       "    </tr>\n",
       "    <tr>\n",
       "      <th>3</th>\n",
       "      <td>KNITTED UNION FLAG HOT WATER BOTTLE</td>\n",
       "      <td>6</td>\n",
       "      <td>12/1/2010 8:26</td>\n",
       "      <td>3.39</td>\n",
       "      <td>17850.0</td>\n",
       "      <td>United Kingdom</td>\n",
       "      <td>536365</td>\n",
       "      <td>84029G</td>\n",
       "    </tr>\n",
       "    <tr>\n",
       "      <th>4</th>\n",
       "      <td>RED WOOLLY HOTTIE WHITE HEART.</td>\n",
       "      <td>6</td>\n",
       "      <td>12/1/2010 8:26</td>\n",
       "      <td>3.39</td>\n",
       "      <td>17850.0</td>\n",
       "      <td>United Kingdom</td>\n",
       "      <td>536365</td>\n",
       "      <td>84029E</td>\n",
       "    </tr>\n",
       "  </tbody>\n",
       "</table>\n",
       "</div>"
      ],
      "text/plain": [
       "                           Description  Quantity     InvoiceDate  UnitPrice  \\\n",
       "0   WHITE HANGING HEART T-LIGHT HOLDER         6  12/1/2010 8:26       2.55   \n",
       "1                  WHITE METAL LANTERN         6  12/1/2010 8:26       3.39   \n",
       "2       CREAM CUPID HEARTS COAT HANGER         8  12/1/2010 8:26       2.75   \n",
       "3  KNITTED UNION FLAG HOT WATER BOTTLE         6  12/1/2010 8:26       3.39   \n",
       "4       RED WOOLLY HOTTIE WHITE HEART.         6  12/1/2010 8:26       3.39   \n",
       "\n",
       "   CustomerID         Country InvoiceNo StockCode  \n",
       "0     17850.0  United Kingdom    536365    85123A  \n",
       "1     17850.0  United Kingdom    536365     71053  \n",
       "2     17850.0  United Kingdom    536365    84406B  \n",
       "3     17850.0  United Kingdom    536365    84029G  \n",
       "4     17850.0  United Kingdom    536365    84029E  "
      ]
     },
     "execution_count": 5,
     "metadata": {},
     "output_type": "execute_result"
    }
   ],
   "source": [
    "#Look at first five rows \n",
    "online_retail_trans.head()"
   ]
  },
  {
   "cell_type": "code",
   "execution_count": 6,
   "id": "e2f01bc1-128e-4dc2-a602-489c2e915f5c",
   "metadata": {},
   "outputs": [
    {
     "name": "stdout",
     "output_type": "stream",
     "text": [
      "The number of rows in the dataset is 541909 and the number of columns is 8\n"
     ]
    }
   ],
   "source": [
    "#Rows and column count in dataset\n",
    "num_rows, num_columns = online_retail_trans.shape\n",
    "print(f\"The number of rows in the dataset is {num_rows} and the number of columns is {num_columns}\")\n"
   ]
  },
  {
   "cell_type": "markdown",
   "id": "19cc9b69-b7b2-42cc-913c-7f10b57053e5",
   "metadata": {},
   "source": [
    "# Data Analysis and Cleanup\n"
   ]
  },
  {
   "cell_type": "code",
   "execution_count": 7,
   "id": "d4d37486-c373-498c-826b-edad90d48070",
   "metadata": {},
   "outputs": [
    {
     "name": "stdout",
     "output_type": "stream",
     "text": [
      "(532621, 8)\n",
      "(9288, 8)\n"
     ]
    }
   ],
   "source": [
    "#Metadata says that rows where InvoiceNo starts with C are cancelled orders. Create two datasets, one with orders and one with cancelled orders\n",
    "\n",
    "# Orders Dataset\n",
    "orders_df = online_retail_trans[~online_retail_trans['InvoiceNo'].str.startswith('C')].copy()\n",
    "#Cancelled Orders Dataset\n",
    "cancelled_orders_df = online_retail_trans[online_retail_trans['InvoiceNo'].str.startswith('C')].copy()\n",
    "\n",
    "# Display the filtered DataFrame\n",
    "print(orders_df.shape)\n",
    "print(cancelled_orders_df.shape)"
   ]
  },
  {
   "cell_type": "code",
   "execution_count": 8,
   "id": "ef814ed3-3ef7-4adb-9461-8611123cc4da",
   "metadata": {},
   "outputs": [
    {
     "data": {
      "text/html": [
       "<div>\n",
       "<style scoped>\n",
       "    .dataframe tbody tr th:only-of-type {\n",
       "        vertical-align: middle;\n",
       "    }\n",
       "\n",
       "    .dataframe tbody tr th {\n",
       "        vertical-align: top;\n",
       "    }\n",
       "\n",
       "    .dataframe thead th {\n",
       "        text-align: right;\n",
       "    }\n",
       "</style>\n",
       "<table border=\"1\" class=\"dataframe\">\n",
       "  <thead>\n",
       "    <tr style=\"text-align: right;\">\n",
       "      <th></th>\n",
       "      <th>Description</th>\n",
       "      <th>Quantity</th>\n",
       "      <th>InvoiceDate</th>\n",
       "      <th>UnitPrice</th>\n",
       "      <th>CustomerID</th>\n",
       "      <th>Country</th>\n",
       "      <th>InvoiceNo</th>\n",
       "      <th>StockCode</th>\n",
       "    </tr>\n",
       "  </thead>\n",
       "  <tbody>\n",
       "    <tr>\n",
       "      <th>0</th>\n",
       "      <td>WHITE HANGING HEART T-LIGHT HOLDER</td>\n",
       "      <td>6</td>\n",
       "      <td>12/1/2010 8:26</td>\n",
       "      <td>2.55</td>\n",
       "      <td>17850.0</td>\n",
       "      <td>United Kingdom</td>\n",
       "      <td>536365</td>\n",
       "      <td>85123A</td>\n",
       "    </tr>\n",
       "    <tr>\n",
       "      <th>1</th>\n",
       "      <td>WHITE METAL LANTERN</td>\n",
       "      <td>6</td>\n",
       "      <td>12/1/2010 8:26</td>\n",
       "      <td>3.39</td>\n",
       "      <td>17850.0</td>\n",
       "      <td>United Kingdom</td>\n",
       "      <td>536365</td>\n",
       "      <td>71053</td>\n",
       "    </tr>\n",
       "    <tr>\n",
       "      <th>2</th>\n",
       "      <td>CREAM CUPID HEARTS COAT HANGER</td>\n",
       "      <td>8</td>\n",
       "      <td>12/1/2010 8:26</td>\n",
       "      <td>2.75</td>\n",
       "      <td>17850.0</td>\n",
       "      <td>United Kingdom</td>\n",
       "      <td>536365</td>\n",
       "      <td>84406B</td>\n",
       "    </tr>\n",
       "    <tr>\n",
       "      <th>3</th>\n",
       "      <td>KNITTED UNION FLAG HOT WATER BOTTLE</td>\n",
       "      <td>6</td>\n",
       "      <td>12/1/2010 8:26</td>\n",
       "      <td>3.39</td>\n",
       "      <td>17850.0</td>\n",
       "      <td>United Kingdom</td>\n",
       "      <td>536365</td>\n",
       "      <td>84029G</td>\n",
       "    </tr>\n",
       "    <tr>\n",
       "      <th>4</th>\n",
       "      <td>RED WOOLLY HOTTIE WHITE HEART.</td>\n",
       "      <td>6</td>\n",
       "      <td>12/1/2010 8:26</td>\n",
       "      <td>3.39</td>\n",
       "      <td>17850.0</td>\n",
       "      <td>United Kingdom</td>\n",
       "      <td>536365</td>\n",
       "      <td>84029E</td>\n",
       "    </tr>\n",
       "  </tbody>\n",
       "</table>\n",
       "</div>"
      ],
      "text/plain": [
       "                           Description  Quantity     InvoiceDate  UnitPrice  \\\n",
       "0   WHITE HANGING HEART T-LIGHT HOLDER         6  12/1/2010 8:26       2.55   \n",
       "1                  WHITE METAL LANTERN         6  12/1/2010 8:26       3.39   \n",
       "2       CREAM CUPID HEARTS COAT HANGER         8  12/1/2010 8:26       2.75   \n",
       "3  KNITTED UNION FLAG HOT WATER BOTTLE         6  12/1/2010 8:26       3.39   \n",
       "4       RED WOOLLY HOTTIE WHITE HEART.         6  12/1/2010 8:26       3.39   \n",
       "\n",
       "   CustomerID         Country InvoiceNo StockCode  \n",
       "0     17850.0  United Kingdom    536365    85123A  \n",
       "1     17850.0  United Kingdom    536365     71053  \n",
       "2     17850.0  United Kingdom    536365    84406B  \n",
       "3     17850.0  United Kingdom    536365    84029G  \n",
       "4     17850.0  United Kingdom    536365    84029E  "
      ]
     },
     "execution_count": 8,
     "metadata": {},
     "output_type": "execute_result"
    }
   ],
   "source": [
    "orders_df.head()"
   ]
  },
  {
   "cell_type": "code",
   "execution_count": 9,
   "id": "f57b5fbf-8eda-46d9-bd98-022b19109089",
   "metadata": {},
   "outputs": [
    {
     "data": {
      "text/html": [
       "<div>\n",
       "<style scoped>\n",
       "    .dataframe tbody tr th:only-of-type {\n",
       "        vertical-align: middle;\n",
       "    }\n",
       "\n",
       "    .dataframe tbody tr th {\n",
       "        vertical-align: top;\n",
       "    }\n",
       "\n",
       "    .dataframe thead th {\n",
       "        text-align: right;\n",
       "    }\n",
       "</style>\n",
       "<table border=\"1\" class=\"dataframe\">\n",
       "  <thead>\n",
       "    <tr style=\"text-align: right;\">\n",
       "      <th></th>\n",
       "      <th>Description</th>\n",
       "      <th>Quantity</th>\n",
       "      <th>InvoiceDate</th>\n",
       "      <th>UnitPrice</th>\n",
       "      <th>CustomerID</th>\n",
       "      <th>Country</th>\n",
       "      <th>InvoiceNo</th>\n",
       "      <th>StockCode</th>\n",
       "    </tr>\n",
       "  </thead>\n",
       "  <tbody>\n",
       "    <tr>\n",
       "      <th>count</th>\n",
       "      <td>531167</td>\n",
       "      <td>532621.000000</td>\n",
       "      <td>532621</td>\n",
       "      <td>532621.000000</td>\n",
       "      <td>397924.000000</td>\n",
       "      <td>532621</td>\n",
       "      <td>532621</td>\n",
       "      <td>532621</td>\n",
       "    </tr>\n",
       "    <tr>\n",
       "      <th>unique</th>\n",
       "      <td>4207</td>\n",
       "      <td>NaN</td>\n",
       "      <td>19990</td>\n",
       "      <td>NaN</td>\n",
       "      <td>NaN</td>\n",
       "      <td>38</td>\n",
       "      <td>22064</td>\n",
       "      <td>4059</td>\n",
       "    </tr>\n",
       "    <tr>\n",
       "      <th>top</th>\n",
       "      <td>WHITE HANGING HEART T-LIGHT HOLDER</td>\n",
       "      <td>NaN</td>\n",
       "      <td>10/31/2011 14:41</td>\n",
       "      <td>NaN</td>\n",
       "      <td>NaN</td>\n",
       "      <td>United Kingdom</td>\n",
       "      <td>573585</td>\n",
       "      <td>85123A</td>\n",
       "    </tr>\n",
       "    <tr>\n",
       "      <th>freq</th>\n",
       "      <td>2327</td>\n",
       "      <td>NaN</td>\n",
       "      <td>1114</td>\n",
       "      <td>NaN</td>\n",
       "      <td>NaN</td>\n",
       "      <td>487622</td>\n",
       "      <td>1114</td>\n",
       "      <td>2271</td>\n",
       "    </tr>\n",
       "    <tr>\n",
       "      <th>mean</th>\n",
       "      <td>NaN</td>\n",
       "      <td>10.239972</td>\n",
       "      <td>NaN</td>\n",
       "      <td>3.847621</td>\n",
       "      <td>15294.315171</td>\n",
       "      <td>NaN</td>\n",
       "      <td>NaN</td>\n",
       "      <td>NaN</td>\n",
       "    </tr>\n",
       "    <tr>\n",
       "      <th>std</th>\n",
       "      <td>NaN</td>\n",
       "      <td>159.593551</td>\n",
       "      <td>NaN</td>\n",
       "      <td>41.758023</td>\n",
       "      <td>1713.169877</td>\n",
       "      <td>NaN</td>\n",
       "      <td>NaN</td>\n",
       "      <td>NaN</td>\n",
       "    </tr>\n",
       "    <tr>\n",
       "      <th>min</th>\n",
       "      <td>NaN</td>\n",
       "      <td>-9600.000000</td>\n",
       "      <td>NaN</td>\n",
       "      <td>-11062.060000</td>\n",
       "      <td>12346.000000</td>\n",
       "      <td>NaN</td>\n",
       "      <td>NaN</td>\n",
       "      <td>NaN</td>\n",
       "    </tr>\n",
       "    <tr>\n",
       "      <th>25%</th>\n",
       "      <td>NaN</td>\n",
       "      <td>1.000000</td>\n",
       "      <td>NaN</td>\n",
       "      <td>1.250000</td>\n",
       "      <td>13969.000000</td>\n",
       "      <td>NaN</td>\n",
       "      <td>NaN</td>\n",
       "      <td>NaN</td>\n",
       "    </tr>\n",
       "    <tr>\n",
       "      <th>50%</th>\n",
       "      <td>NaN</td>\n",
       "      <td>3.000000</td>\n",
       "      <td>NaN</td>\n",
       "      <td>2.080000</td>\n",
       "      <td>15159.000000</td>\n",
       "      <td>NaN</td>\n",
       "      <td>NaN</td>\n",
       "      <td>NaN</td>\n",
       "    </tr>\n",
       "    <tr>\n",
       "      <th>75%</th>\n",
       "      <td>NaN</td>\n",
       "      <td>10.000000</td>\n",
       "      <td>NaN</td>\n",
       "      <td>4.130000</td>\n",
       "      <td>16795.000000</td>\n",
       "      <td>NaN</td>\n",
       "      <td>NaN</td>\n",
       "      <td>NaN</td>\n",
       "    </tr>\n",
       "    <tr>\n",
       "      <th>max</th>\n",
       "      <td>NaN</td>\n",
       "      <td>80995.000000</td>\n",
       "      <td>NaN</td>\n",
       "      <td>13541.330000</td>\n",
       "      <td>18287.000000</td>\n",
       "      <td>NaN</td>\n",
       "      <td>NaN</td>\n",
       "      <td>NaN</td>\n",
       "    </tr>\n",
       "  </tbody>\n",
       "</table>\n",
       "</div>"
      ],
      "text/plain": [
       "                               Description       Quantity       InvoiceDate  \\\n",
       "count                               531167  532621.000000            532621   \n",
       "unique                                4207            NaN             19990   \n",
       "top     WHITE HANGING HEART T-LIGHT HOLDER            NaN  10/31/2011 14:41   \n",
       "freq                                  2327            NaN              1114   \n",
       "mean                                   NaN      10.239972               NaN   \n",
       "std                                    NaN     159.593551               NaN   \n",
       "min                                    NaN   -9600.000000               NaN   \n",
       "25%                                    NaN       1.000000               NaN   \n",
       "50%                                    NaN       3.000000               NaN   \n",
       "75%                                    NaN      10.000000               NaN   \n",
       "max                                    NaN   80995.000000               NaN   \n",
       "\n",
       "            UnitPrice     CustomerID         Country InvoiceNo StockCode  \n",
       "count   532621.000000  397924.000000          532621    532621    532621  \n",
       "unique            NaN            NaN              38     22064      4059  \n",
       "top               NaN            NaN  United Kingdom    573585    85123A  \n",
       "freq              NaN            NaN          487622      1114      2271  \n",
       "mean         3.847621   15294.315171             NaN       NaN       NaN  \n",
       "std         41.758023    1713.169877             NaN       NaN       NaN  \n",
       "min     -11062.060000   12346.000000             NaN       NaN       NaN  \n",
       "25%          1.250000   13969.000000             NaN       NaN       NaN  \n",
       "50%          2.080000   15159.000000             NaN       NaN       NaN  \n",
       "75%          4.130000   16795.000000             NaN       NaN       NaN  \n",
       "max      13541.330000   18287.000000             NaN       NaN       NaN  "
      ]
     },
     "execution_count": 9,
     "metadata": {},
     "output_type": "execute_result"
    }
   ],
   "source": [
    "#Descriptive statistics\n",
    "orders_df.describe(include='all')\n"
   ]
  },
  {
   "cell_type": "markdown",
   "id": "5f40cdf7-9092-48c8-b2cc-8b8a3ae32e6e",
   "metadata": {},
   "source": [
    "# Assessing Null Values / Errors"
   ]
  },
  {
   "cell_type": "code",
   "execution_count": 15,
   "id": "5d5ef649-bb75-46f8-ab6f-ddd8c6e18eca",
   "metadata": {},
   "outputs": [],
   "source": [
    "#From the descriptive stats, some of the quantity and unit price amounts are less than 0\n",
    "#Remove rows with that have quantity and unit price that is 0 or less\n",
    "filtered_df = orders_df[(orders_df['Quantity'] >= 0) | (orders_df['UnitPrice'] >= 0)]\n",
    "\n",
    "#filtered_df now contains only rows where both Quantity and UnitPrice are 0 or more"
   ]
  },
  {
   "cell_type": "code",
   "execution_count": 13,
   "id": "b5ceb020-7df3-4f4a-bd77-80b2777ca299",
   "metadata": {},
   "outputs": [
    {
     "data": {
      "text/plain": [
       "Description      1454\n",
       "Quantity            0\n",
       "InvoiceDate         0\n",
       "UnitPrice           0\n",
       "CustomerID     134697\n",
       "Country             0\n",
       "InvoiceNo           0\n",
       "StockCode           0\n",
       "dtype: int64"
      ]
     },
     "execution_count": 13,
     "metadata": {},
     "output_type": "execute_result"
    }
   ],
   "source": [
    "#Find null values\n",
    "orders_df.isnull().sum()"
   ]
  },
  {
   "cell_type": "code",
   "execution_count": 19,
   "id": "ef387960-c9f5-4f3e-8b31-eff480b209b4",
   "metadata": {},
   "outputs": [
    {
     "name": "stdout",
     "output_type": "stream",
     "text": [
      "(532621, 8)\n",
      "(531283, 8)\n"
     ]
    }
   ],
   "source": [
    "print(orders_df.shape)\n",
    "print(filtered_df.shape)"
   ]
  },
  {
   "cell_type": "code",
   "execution_count": 20,
   "id": "7aec6d57-d149-44e8-b3ea-34d5188fc79d",
   "metadata": {},
   "outputs": [
    {
     "name": "stdout",
     "output_type": "stream",
     "text": [
      "Number of unique Stock IDs: 4059\n"
     ]
    }
   ],
   "source": [
    "#After some analysis, noticed that some of the StockIds have upper and lowercase values. Counting the unique stockIDs before fixing the issue\n",
    "unique_stock_ids_count = orders_df['StockCode'].nunique()\n",
    "print(f'Number of unique Stock IDs: {unique_stock_ids_count}')"
   ]
  },
  {
   "cell_type": "code",
   "execution_count": 21,
   "id": "9cf14268-785a-4fe4-8733-c10a779039dc",
   "metadata": {},
   "outputs": [],
   "source": [
    "# Convert all letters in StockCode to uppercase\n",
    "orders_df['StockCode'] = orders_df['StockCode'].str.upper()\n"
   ]
  },
  {
   "cell_type": "code",
   "execution_count": 37,
   "id": "4cbec7cf-dc19-42a4-990b-3db0908335a1",
   "metadata": {},
   "outputs": [
    {
     "name": "stdout",
     "output_type": "stream",
     "text": [
      "Number of unique Stock IDs: 3947\n",
      "(532621, 8)\n"
     ]
    }
   ],
   "source": [
    "#Unique StockIDs now\n",
    "count_ids2 = orders_df['StockCode'].nunique()\n",
    "print(f'Number of unique Stock IDs: {count_ids2}')\n",
    "print(orders_df.shape)"
   ]
  },
  {
   "cell_type": "code",
   "execution_count": 23,
   "id": "de2e9046-eb7a-4595-9bb2-9847600e349e",
   "metadata": {},
   "outputs": [],
   "source": [
    "#From the descriptive stats, there are rows where quantity and unit are 0 or negative. Remove these\n",
    "filtered_df = orders_df[~((orders_df['Quantity'] < 0) | (orders_df['UnitPrice'] < 0))]\n",
    "\n"
   ]
  },
  {
   "cell_type": "code",
   "execution_count": 36,
   "id": "53d3241e-0c66-4a45-9026-241132adf5b3",
   "metadata": {},
   "outputs": [
    {
     "name": "stdout",
     "output_type": "stream",
     "text": [
      "Number of unique Stock IDs: 3829\n",
      "(531283, 8)\n"
     ]
    }
   ],
   "source": [
    "#Unique StockIDs and Shape\n",
    "count_ids3 = filtered_df['StockCode'].nunique()\n",
    "print(f'Number of unique Stock IDs: {count_ids3}')\n",
    "print(filtered_df.shape)"
   ]
  },
  {
   "cell_type": "code",
   "execution_count": 26,
   "id": "bed227ed-e509-4491-b17a-d2b841e2331a",
   "metadata": {},
   "outputs": [
    {
     "data": {
      "text/plain": [
       "Description       592\n",
       "Quantity            0\n",
       "InvoiceDate         0\n",
       "UnitPrice           0\n",
       "CustomerID     133359\n",
       "Country             0\n",
       "InvoiceNo           0\n",
       "StockCode           0\n",
       "dtype: int64"
      ]
     },
     "execution_count": 26,
     "metadata": {},
     "output_type": "execute_result"
    }
   ],
   "source": [
    "#Find null values\n",
    "filtered_df.isnull().sum()"
   ]
  },
  {
   "cell_type": "code",
   "execution_count": 63,
   "id": "834b1e3b-4adc-463b-8b9a-df648ecd011d",
   "metadata": {},
   "outputs": [],
   "source": [
    "#Filter where CustomerId is Null\n",
    "cleaned_df = filtered_df.dropna(subset=['CustomerID']).copy()"
   ]
  },
  {
   "cell_type": "code",
   "execution_count": 64,
   "id": "07573174-03b5-4a6f-819a-7461897f2ee8",
   "metadata": {},
   "outputs": [
    {
     "data": {
      "text/plain": [
       "(397924, 8)"
      ]
     },
     "execution_count": 64,
     "metadata": {},
     "output_type": "execute_result"
    }
   ],
   "source": [
    "cleaned_df.shape"
   ]
  },
  {
   "cell_type": "code",
   "execution_count": 65,
   "id": "a99ce98d-1abb-419d-8451-05a22593c8d3",
   "metadata": {},
   "outputs": [
    {
     "data": {
      "text/plain": [
       "Description    0\n",
       "Quantity       0\n",
       "InvoiceDate    0\n",
       "UnitPrice      0\n",
       "CustomerID     0\n",
       "Country        0\n",
       "InvoiceNo      0\n",
       "StockCode      0\n",
       "dtype: int64"
      ]
     },
     "execution_count": 65,
     "metadata": {},
     "output_type": "execute_result"
    }
   ],
   "source": [
    "#See if there are any nulls left\n",
    "cleaned_df.isnull().sum()"
   ]
  },
  {
   "cell_type": "code",
   "execution_count": 74,
   "id": "9eefa6b2-0d91-4da7-a157-ce1a658c8b0c",
   "metadata": {},
   "outputs": [],
   "source": [
    "# Reset to the pandas default setting (usually 60 rows)\n",
    "pd.options.display.max_rows = 1000\n"
   ]
  },
  {
   "cell_type": "code",
   "execution_count": 66,
   "id": "24d4c2cc-cf5a-42f1-ade5-5f5526a4fd10",
   "metadata": {},
   "outputs": [],
   "source": [
    "#Replace typos in description column with most popular description by StockCode\n",
    "\n",
    "# Find the most popular description for each StockCode\n",
    "most_popular_descriptions = cleaned_df.groupby('StockCode')['Description'].agg(lambda x: x.mode().iat[0] if not x.mode().empty else \"No Description\")\n",
    "\n",
    "# Create a dictionary to map StockCode to the most popular description\n",
    "description_mapping = most_popular_descriptions.to_dict()\n",
    "\n",
    "# Fill in descriptions based on the most popular description for their StockCode\n",
    "cleaned_df['Description'] = cleaned_df.apply(lambda x: description_mapping[x['StockCode']] if pd.isnull(x['Description']) or x['Description'] not in description_mapping.values() else x['Description'], axis=1)\n"
   ]
  },
  {
   "cell_type": "code",
   "execution_count": 67,
   "id": "e8c481ba-a7b3-43ff-981b-822f4a4deb54",
   "metadata": {},
   "outputs": [
    {
     "name": "stdout",
     "output_type": "stream",
     "text": [
      "Number of unique Stock IDs: 3665\n",
      "Number of unique descriptions: 3647\n"
     ]
    }
   ],
   "source": [
    "#Validate one description per stock ID\n",
    "unique_stock_ids_count = cleaned_df['StockCode'].nunique()\n",
    "print(f'Number of unique Stock IDs: {unique_stock_ids_count}')\n",
    "\n",
    "unique_descriptions_count = cleaned_df['Description'].nunique()\n",
    "print(f'Number of unique descriptions: {unique_descriptions_count}')"
   ]
  },
  {
   "cell_type": "code",
   "execution_count": 68,
   "id": "4da85ab7-f61c-4a8b-b2a0-c96593f62fd6",
   "metadata": {},
   "outputs": [],
   "source": [
    "# Group by Description and aggregate StockCodes into lists\n",
    "grouped = cleaned_df.groupby('Description')['StockCode'].unique()\n",
    "\n",
    "# Filter groups where the list of StockCodes has more than one element\n",
    "duplicates = grouped[grouped.apply(len) > 1]\n",
    "\n",
    "# duplicates now contains the descriptions along with the StockCodes that share those descriptions\n"
   ]
  },
  {
   "cell_type": "code",
   "execution_count": 69,
   "id": "31b3e4fa-0d21-4309-ba56-805193d8cb31",
   "metadata": {},
   "outputs": [
    {
     "data": {
      "text/plain": [
       "Description\n",
       "COLOURING PENCILS BROWN TUBE                 [10133, 10135]\n",
       "COLUMBIAN CANDLE RECTANGLE                   [72133, 72131]\n",
       "COLUMBIAN CANDLE ROUND                       [72130, 72128]\n",
       "EAU DE NILE JEWELLED PHOTOFRAME            [85023B, 85024B]\n",
       "FRENCH FLORAL CUSHION COVER                  [20837, 20840]\n",
       "FRENCH LATTICE CUSHION COVER                 [20835, 20838]\n",
       "FROSTED WHITE BASE                           [79403, 79406]\n",
       "METAL SIGN,CUPCAKE SINGLE HOOK     [82613B, 82613C, 82613A]\n",
       "PAPER LANTERN 9 POINT SNOW STAR              [23041, 23040]\n",
       "PINK FAIRY CAKE CUSHION COVER              [47586A, 47585A]\n",
       "PINK FLOCK GLASS CANDLEHOLDER                [79329, 79331]\n",
       "PINK FLOWERS RABBIT EASTER                 [35909B, 35910B]\n",
       "RETRO PLASTIC 70'S TRAY                    [79190A, 79192A]\n",
       "RETRO PLASTIC DAISY TRAY                   [79190D, 79191D]\n",
       "RETRO PLASTIC POLKA TRAY                   [79191B, 79190B]\n",
       "ROUND BLUE CLOCK WITH SUCKER               [81952B, 81953B]\n",
       "SQUARE CHERRY BLOSSOM CABINET                [84665, 84666]\n",
       "STORAGE TIN VINTAGE LEAF                     [23235, 23244]\n",
       "WHITE BAMBOO RIBS LAMPSHADE                  [40001, 40003]\n",
       "Name: StockCode, dtype: object"
      ]
     },
     "execution_count": 69,
     "metadata": {},
     "output_type": "execute_result"
    }
   ],
   "source": [
    "#Item descriptions with multiple item numbers. This is okay.\n",
    "duplicates"
   ]
  },
  {
   "cell_type": "code",
   "execution_count": 70,
   "id": "d0015706-df32-4b68-b084-b7336b2e6494",
   "metadata": {},
   "outputs": [],
   "source": [
    "#Reset index\n",
    "cleaned_df=cleaned_df.reset_index(drop=True)"
   ]
  },
  {
   "cell_type": "code",
   "execution_count": 75,
   "id": "dbbca569-9d2f-47b3-85bf-0e41e900a723",
   "metadata": {},
   "outputs": [
    {
     "data": {
      "text/html": [
       "<div>\n",
       "<style scoped>\n",
       "    .dataframe tbody tr th:only-of-type {\n",
       "        vertical-align: middle;\n",
       "    }\n",
       "\n",
       "    .dataframe tbody tr th {\n",
       "        vertical-align: top;\n",
       "    }\n",
       "\n",
       "    .dataframe thead th {\n",
       "        text-align: right;\n",
       "    }\n",
       "</style>\n",
       "<table border=\"1\" class=\"dataframe\">\n",
       "  <thead>\n",
       "    <tr style=\"text-align: right;\">\n",
       "      <th></th>\n",
       "      <th>Description</th>\n",
       "      <th>Quantity</th>\n",
       "      <th>InvoiceDate</th>\n",
       "      <th>UnitPrice</th>\n",
       "      <th>CustomerID</th>\n",
       "      <th>Country</th>\n",
       "      <th>InvoiceNo</th>\n",
       "      <th>StockCode</th>\n",
       "    </tr>\n",
       "  </thead>\n",
       "  <tbody>\n",
       "    <tr>\n",
       "      <th>0</th>\n",
       "      <td>WHITE HANGING HEART T-LIGHT HOLDER</td>\n",
       "      <td>6</td>\n",
       "      <td>12/1/2010 8:26</td>\n",
       "      <td>2.55</td>\n",
       "      <td>17850.0</td>\n",
       "      <td>United Kingdom</td>\n",
       "      <td>536365</td>\n",
       "      <td>85123A</td>\n",
       "    </tr>\n",
       "    <tr>\n",
       "      <th>1</th>\n",
       "      <td>WHITE METAL LANTERN</td>\n",
       "      <td>6</td>\n",
       "      <td>12/1/2010 8:26</td>\n",
       "      <td>3.39</td>\n",
       "      <td>17850.0</td>\n",
       "      <td>United Kingdom</td>\n",
       "      <td>536365</td>\n",
       "      <td>71053</td>\n",
       "    </tr>\n",
       "    <tr>\n",
       "      <th>2</th>\n",
       "      <td>CREAM CUPID HEARTS COAT HANGER</td>\n",
       "      <td>8</td>\n",
       "      <td>12/1/2010 8:26</td>\n",
       "      <td>2.75</td>\n",
       "      <td>17850.0</td>\n",
       "      <td>United Kingdom</td>\n",
       "      <td>536365</td>\n",
       "      <td>84406B</td>\n",
       "    </tr>\n",
       "    <tr>\n",
       "      <th>3</th>\n",
       "      <td>KNITTED UNION FLAG HOT WATER BOTTLE</td>\n",
       "      <td>6</td>\n",
       "      <td>12/1/2010 8:26</td>\n",
       "      <td>3.39</td>\n",
       "      <td>17850.0</td>\n",
       "      <td>United Kingdom</td>\n",
       "      <td>536365</td>\n",
       "      <td>84029G</td>\n",
       "    </tr>\n",
       "    <tr>\n",
       "      <th>4</th>\n",
       "      <td>RED WOOLLY HOTTIE WHITE HEART.</td>\n",
       "      <td>6</td>\n",
       "      <td>12/1/2010 8:26</td>\n",
       "      <td>3.39</td>\n",
       "      <td>17850.0</td>\n",
       "      <td>United Kingdom</td>\n",
       "      <td>536365</td>\n",
       "      <td>84029E</td>\n",
       "    </tr>\n",
       "    <tr>\n",
       "      <th>...</th>\n",
       "      <td>...</td>\n",
       "      <td>...</td>\n",
       "      <td>...</td>\n",
       "      <td>...</td>\n",
       "      <td>...</td>\n",
       "      <td>...</td>\n",
       "      <td>...</td>\n",
       "      <td>...</td>\n",
       "    </tr>\n",
       "    <tr>\n",
       "      <th>397919</th>\n",
       "      <td>PACK OF 20 SPACEBOY NAPKINS</td>\n",
       "      <td>12</td>\n",
       "      <td>12/9/2011 12:50</td>\n",
       "      <td>0.85</td>\n",
       "      <td>12680.0</td>\n",
       "      <td>France</td>\n",
       "      <td>581587</td>\n",
       "      <td>22613</td>\n",
       "    </tr>\n",
       "    <tr>\n",
       "      <th>397920</th>\n",
       "      <td>CHILDREN'S APRON DOLLY GIRL</td>\n",
       "      <td>6</td>\n",
       "      <td>12/9/2011 12:50</td>\n",
       "      <td>2.10</td>\n",
       "      <td>12680.0</td>\n",
       "      <td>France</td>\n",
       "      <td>581587</td>\n",
       "      <td>22899</td>\n",
       "    </tr>\n",
       "    <tr>\n",
       "      <th>397921</th>\n",
       "      <td>CHILDRENS CUTLERY DOLLY GIRL</td>\n",
       "      <td>4</td>\n",
       "      <td>12/9/2011 12:50</td>\n",
       "      <td>4.15</td>\n",
       "      <td>12680.0</td>\n",
       "      <td>France</td>\n",
       "      <td>581587</td>\n",
       "      <td>23254</td>\n",
       "    </tr>\n",
       "    <tr>\n",
       "      <th>397922</th>\n",
       "      <td>CHILDRENS CUTLERY CIRCUS PARADE</td>\n",
       "      <td>4</td>\n",
       "      <td>12/9/2011 12:50</td>\n",
       "      <td>4.15</td>\n",
       "      <td>12680.0</td>\n",
       "      <td>France</td>\n",
       "      <td>581587</td>\n",
       "      <td>23255</td>\n",
       "    </tr>\n",
       "    <tr>\n",
       "      <th>397923</th>\n",
       "      <td>BAKING SET 9 PIECE RETROSPOT</td>\n",
       "      <td>3</td>\n",
       "      <td>12/9/2011 12:50</td>\n",
       "      <td>4.95</td>\n",
       "      <td>12680.0</td>\n",
       "      <td>France</td>\n",
       "      <td>581587</td>\n",
       "      <td>22138</td>\n",
       "    </tr>\n",
       "  </tbody>\n",
       "</table>\n",
       "<p>397924 rows × 8 columns</p>\n",
       "</div>"
      ],
      "text/plain": [
       "                                Description  Quantity      InvoiceDate  \\\n",
       "0        WHITE HANGING HEART T-LIGHT HOLDER         6   12/1/2010 8:26   \n",
       "1                       WHITE METAL LANTERN         6   12/1/2010 8:26   \n",
       "2            CREAM CUPID HEARTS COAT HANGER         8   12/1/2010 8:26   \n",
       "3       KNITTED UNION FLAG HOT WATER BOTTLE         6   12/1/2010 8:26   \n",
       "4            RED WOOLLY HOTTIE WHITE HEART.         6   12/1/2010 8:26   \n",
       "...                                     ...       ...              ...   \n",
       "397919          PACK OF 20 SPACEBOY NAPKINS        12  12/9/2011 12:50   \n",
       "397920         CHILDREN'S APRON DOLLY GIRL          6  12/9/2011 12:50   \n",
       "397921        CHILDRENS CUTLERY DOLLY GIRL          4  12/9/2011 12:50   \n",
       "397922      CHILDRENS CUTLERY CIRCUS PARADE         4  12/9/2011 12:50   \n",
       "397923        BAKING SET 9 PIECE RETROSPOT          3  12/9/2011 12:50   \n",
       "\n",
       "        UnitPrice  CustomerID         Country InvoiceNo StockCode  \n",
       "0            2.55     17850.0  United Kingdom    536365    85123A  \n",
       "1            3.39     17850.0  United Kingdom    536365     71053  \n",
       "2            2.75     17850.0  United Kingdom    536365    84406B  \n",
       "3            3.39     17850.0  United Kingdom    536365    84029G  \n",
       "4            3.39     17850.0  United Kingdom    536365    84029E  \n",
       "...           ...         ...             ...       ...       ...  \n",
       "397919       0.85     12680.0          France    581587     22613  \n",
       "397920       2.10     12680.0          France    581587     22899  \n",
       "397921       4.15     12680.0          France    581587     23254  \n",
       "397922       4.15     12680.0          France    581587     23255  \n",
       "397923       4.95     12680.0          France    581587     22138  \n",
       "\n",
       "[397924 rows x 8 columns]"
      ]
     },
     "execution_count": 75,
     "metadata": {},
     "output_type": "execute_result"
    }
   ],
   "source": [
    "cleaned_df"
   ]
  },
  {
   "cell_type": "code",
   "execution_count": null,
   "id": "2c961e3a-0139-4d39-a443-b56a8e936668",
   "metadata": {},
   "outputs": [],
   "source": []
  },
  {
   "cell_type": "markdown",
   "id": "85be10c2-ef1e-4abf-b5df-ef19944df990",
   "metadata": {},
   "source": [
    "## Adding in Date and Total Cost Column"
   ]
  },
  {
   "cell_type": "code",
   "execution_count": null,
   "id": "62624f23-bcb9-458d-bba0-3c7e057e0b58",
   "metadata": {},
   "outputs": [],
   "source": [
    "# Ensure 'InvoiceDate' is in datetime format\n",
    "df_cleaned['InvoiceDate'] = pd.to_datetime(df_cleaned['InvoiceDate'])"
   ]
  },
  {
   "cell_type": "code",
   "execution_count": null,
   "id": "52a0ed49-88c4-49d6-8626-9b15226686a9",
   "metadata": {},
   "outputs": [],
   "source": [
    "print(df_cleaned['InvoiceDate'].dtype)"
   ]
  },
  {
   "cell_type": "code",
   "execution_count": null,
   "id": "33f4d76a-6eb1-4dda-99d1-0149d37bf0a2",
   "metadata": {},
   "outputs": [],
   "source": [
    "# Create separate date and time columns\n",
    "df_cleaned['InvoiceDate_only'] = df_cleaned['InvoiceDate'].dt.date\n",
    "df_cleaned['InvoiceTime_only'] = df_cleaned['InvoiceDate'].dt.time"
   ]
  },
  {
   "cell_type": "code",
   "execution_count": null,
   "id": "e57906af-7dee-426a-951a-996b28f56ee1",
   "metadata": {},
   "outputs": [],
   "source": [
    "#Change invoicedate_only to datetime\n",
    "df_cleaned['InvoiceDate_only'] = pd.to_datetime(df_cleaned['InvoiceDate_only'])\n",
    "\n",
    "# Create 'Year' and 'Month' columns \n",
    "df_cleaned['Year'] = df_cleaned['InvoiceDate_only'].dt.year\n",
    "df_cleaned['Month'] = df_cleaned['InvoiceDate_only'].dt.month\n"
   ]
  },
  {
   "cell_type": "code",
   "execution_count": null,
   "id": "37f8fc10-ca6e-4da8-b3e0-abac37fe9dbf",
   "metadata": {},
   "outputs": [],
   "source": [
    "# Adding in TotalPrice Column using .loc for explicit indexing\n",
    "df_cleaned['TotalPrice'] = df_cleaned['UnitPrice'] * df_cleaned['Quantity']\n"
   ]
  },
  {
   "cell_type": "code",
   "execution_count": null,
   "id": "d0bbafa7-aa48-46d6-af54-b05b0c9f3ab8",
   "metadata": {},
   "outputs": [],
   "source": [
    "df_cleaned.shape\n"
   ]
  },
  {
   "cell_type": "code",
   "execution_count": null,
   "id": "de29efa4-3f98-4f30-aa54-d22f4e529d5f",
   "metadata": {},
   "outputs": [],
   "source": [
    "df_cleaned.head()"
   ]
  },
  {
   "cell_type": "code",
   "execution_count": null,
   "id": "07726715-3abd-4f4f-8d4c-dd3d8cb32aea",
   "metadata": {},
   "outputs": [],
   "source": [
    "# Identify categorical columns\n",
    "categorical_columns = df_cleaned.select_dtypes(include=['object', 'category']).columns\n",
    "\n",
    "# Get frequency counts for each categorical column\n",
    "frequencies = {}\n",
    "for column in categorical_columns:\n",
    "    frequencies[column] = df_cleaned[column].value_counts()\n",
    "\n",
    "# Display the frequency counts\n",
    "for column, freq in frequencies.items():\n",
    "    print(f\"Frequency for {column}:\\n{freq}\\n\")"
   ]
  },
  {
   "cell_type": "markdown",
   "id": "de7dc5c7-ba05-4f80-91d9-6e3154e0b17b",
   "metadata": {},
   "source": [
    "# Show Sales by Top 5 Customers"
   ]
  },
  {
   "cell_type": "code",
   "execution_count": null,
   "id": "54c15ffc-7ddb-480b-b3f7-cc8c54d4f3c6",
   "metadata": {},
   "outputs": [],
   "source": [
    "# Sum sales by customer\n",
    "sales_by_customer = df_cleaned.groupby('CustomerID')['TotalPrice'].sum().sort_values(ascending=False)\n"
   ]
  },
  {
   "cell_type": "code",
   "execution_count": null,
   "id": "53d00330-3ce1-4963-acd5-cda60009bf5d",
   "metadata": {},
   "outputs": [],
   "source": [
    "# Get the top 5 customers\n",
    "top_5_customers = sales_by_customer.head(5).index.tolist()\n"
   ]
  },
  {
   "cell_type": "code",
   "execution_count": null,
   "id": "af533239-78d4-4ba8-b5ad-e6367d7fc148",
   "metadata": {},
   "outputs": [],
   "source": [
    "# Filter the dataset for top 5 customers\n",
    "top_5_customers_data = df_cleaned[df_cleaned['CustomerID'].isin(top_5_customers)]\n"
   ]
  },
  {
   "cell_type": "code",
   "execution_count": null,
   "id": "d13141cc-4ec7-4e60-a7e5-bc0d193b9efc",
   "metadata": {},
   "outputs": [],
   "source": [
    "#Convert InvoiceDate to datetime\n",
    "top_5_customers_data.loc[:, 'InvoiceDate_only'] = pd.to_datetime(top_5_customers_data['InvoiceDate_only'])\n",
    "#Grouping and summation\n",
    "monthly_sales_top_5 = top_5_customers_data.groupby(['CustomerID', pd.Grouper(key='InvoiceDate_only', freq='ME')])['TotalPrice'].sum().reset_index()\n",
    "\n"
   ]
  },
  {
   "cell_type": "code",
   "execution_count": null,
   "id": "c4e31d7b-dfed-4ed6-8105-ac05481f1624",
   "metadata": {},
   "outputs": [],
   "source": [
    "#Plot Trend lines\n",
    "import matplotlib.pyplot as plt\n",
    "import seaborn as sns\n",
    "\n",
    "plt.figure(figsize=(10, 6))\n",
    "\n",
    "# Plotting sales trends for the top 5 customers\n",
    "for customer in top_5_customers:\n",
    "    customer_data = monthly_sales_top_5[monthly_sales_top_5['CustomerID'] == customer]\n",
    "    plt.plot(customer_data['InvoiceDate_only'], customer_data['TotalPrice'], label=customer)\n",
    "\n",
    "plt.title('Sales Trends for Top 5 Customers')\n",
    "plt.xlabel('Date')\n",
    "plt.ylabel('Sales')\n",
    "plt.legend(title='CustomerID')\n",
    "plt.xticks(rotation=45)  # Rotate date labels for better readability\n",
    "plt.show()\n"
   ]
  },
  {
   "cell_type": "markdown",
   "id": "c7995a40-3936-4fe1-bbe9-0393a3d501ac",
   "metadata": {},
   "source": [
    "# Clean the Description Field"
   ]
  },
  {
   "cell_type": "code",
   "execution_count": null,
   "id": "bacd004d-138b-4b35-bfea-4261588b6764",
   "metadata": {},
   "outputs": [],
   "source": [
    "unique_descriptions_count = df_cleaned['Description'].nunique()\n",
    "print(f'Number of unique descriptions: {unique_descriptions_count}')\n"
   ]
  },
  {
   "cell_type": "code",
   "execution_count": null,
   "id": "bb00acf7-0435-4c0f-97aa-94022f587cb9",
   "metadata": {},
   "outputs": [],
   "source": [
    "unique_stock_ids_count = df_cleaned['StockCode'].nunique()\n",
    "print(f'Number of unique Stock IDs: {unique_stock_ids_count}')\n"
   ]
  },
  {
   "cell_type": "code",
   "execution_count": null,
   "id": "7e14b97e-fdcd-48a0-8ae4-ad044a462edb",
   "metadata": {},
   "outputs": [],
   "source": [
    "#Number of unique descriptions and unique stock ID's do not match!!!\n",
    "\n"
   ]
  },
  {
   "cell_type": "code",
   "execution_count": null,
   "id": "cb8ef6de-2f2b-4005-aa19-809b04249905",
   "metadata": {},
   "outputs": [],
   "source": [
    "# Step 1 & 2: Group by 'StockCode' and filter\n",
    "# This creates a DataFrame of groups with more than one unique 'Description'\n",
    "df_filtered = df_cleaned.groupby('StockCode').filter(lambda x: x['Description'].nunique() > 1)\n",
    "\n",
    "# Step 3: Sort the resulting DataFrame by 'StockCode' (and 'Description' if you want)\n",
    "df_sorted = df_filtered.sort_values(by=['StockCode', 'Description'])\n",
    "\n",
    "print(df_sorted[['StockCode', 'Description']])\n"
   ]
  },
  {
   "cell_type": "code",
   "execution_count": null,
   "id": "a4bfc576-e68b-4dca-a34f-0efa1d9cee6a",
   "metadata": {},
   "outputs": [],
   "source": []
  }
 ],
 "metadata": {
  "kernelspec": {
   "display_name": "Python 3 (ipykernel)",
   "language": "python",
   "name": "python3"
  },
  "language_info": {
   "codemirror_mode": {
    "name": "ipython",
    "version": 3
   },
   "file_extension": ".py",
   "mimetype": "text/x-python",
   "name": "python",
   "nbconvert_exporter": "python",
   "pygments_lexer": "ipython3",
   "version": "3.11.8"
  }
 },
 "nbformat": 4,
 "nbformat_minor": 5
}
